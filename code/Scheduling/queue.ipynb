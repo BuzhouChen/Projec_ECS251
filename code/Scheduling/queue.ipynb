{
  "cells": [
    {
      "cell_type": "code",
      "execution_count": 1,
      "metadata": {
        "vscode": {
          "languageId": "plaintext"
        },
        "colab": {
          "base_uri": "https://localhost:8080/"
        },
        "id": "1FZm-PKIuENC",
        "outputId": "6a947bdb-aa72-4683-846b-203fc26228d1"
      },
      "outputs": [
        {
          "output_type": "stream",
          "name": "stdout",
          "text": [
            "Executing: High Priority Task\n",
            "Executing: Medium Priority Task\n",
            "Executing: Low Priority Task\n"
          ]
        }
      ],
      "source": [
        "import concurrent.futures\n",
        "import heapq\n",
        "\n",
        "tasks = [\n",
        "    (1, \"Low Priority Task\"),\n",
        "    (3, \"High Priority Task\"),\n",
        "    (2, \"Medium Priority Task\")\n",
        "]\n",
        "\n",
        "def execute_task(task):\n",
        "    priority, description = task\n",
        "    print(f\"Executing: {description}\")\n",
        "\n",
        "tasks_Sort = sorted(tasks_Sort, reverse=True)  # Simulate priority queue\n",
        "tasks_Lifo = tasks[::-1] #Simulate Last in First Out\n",
        "\n",
        "with concurrent.futures.ThreadPoolExecutor(max_workers=3) as executor:\n",
        "    executor.map(execute_task, tasks_Sort)\n",
        "\n",
        "with concurrent.futures.ThreadPoolExecutor(max_workers=3) as executor:\n",
        "    executor.map(execute_task, tasks_Lifo)"
      ]
    }
  ],
  "metadata": {
    "language_info": {
      "name": "python"
    },
    "colab": {
      "provenance": []
    },
    "kernelspec": {
      "name": "python3",
      "display_name": "Python 3"
    }
  },
  "nbformat": 4,
  "nbformat_minor": 0
}