{
 "cells": [
  {
   "cell_type": "code",
   "execution_count": null,
   "metadata": {
    "vscode": {
     "languageId": "plaintext"
    }
   },
   "outputs": [],
   "source": [
    "import concurrent.futures\n",
    "import heapq\n",
    "\n",
    "tasks = [\n",
    "    (1, \"Low Priority Task\"),\n",
    "    (3, \"High Priority Task\"),\n",
    "    (2, \"Medium Priority Task\")\n",
    "]\n",
    "\n",
    "def execute_task(task):\n",
    "    priority, description = task\n",
    "    print(f\"Executing: {description}\")\n",
    "\n",
    "tasks = sorted(tasks, reverse=True)  # Simulate priority queue\n",
    "\n",
    "with concurrent.futures.ThreadPoolExecutor(max_workers=3) as executor:\n",
    "    executor.map(execute_task, tasks)"
   ]
  }
 ],
 "metadata": {
  "language_info": {
   "name": "python"
  }
 },
 "nbformat": 4,
 "nbformat_minor": 2
}
