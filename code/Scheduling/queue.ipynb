{
  "cells": [
    {
      "cell_type": "code",
      "execution_count": 7,
      "metadata": {
        "vscode": {
          "languageId": "plaintext"
        },
        "colab": {
          "base_uri": "https://localhost:8080/"
        },
        "id": "1FZm-PKIuENC",
        "outputId": "00a08e27-87d8-4b7c-9bb9-805e73d0fdd0"
      },
      "outputs": [
        {
          "output_type": "stream",
          "name": "stdout",
          "text": [
            "Executing: Low Priority Task (Priority: 1)\n",
            "Executing: High Priority Task (Priority: 3)\n",
            "Executing: Medium Priority Task (Priority: 2)\n",
            "Running Priority Scheduling\n",
            "Executing: High Priority Task (Priority: 3)\n",
            "Executing: Medium Priority Task (Priority: 2)\n",
            "Executing: Low Priority Task (Priority: 1)\n",
            "Executing: Low Priority Task (Priority: 1)\n",
            "Executing: High Priority Task (Priority: 3)\n",
            "Executing: Medium Priority Task (Priority: 2)\n",
            "Total time taken: 1.00 seconds\n",
            "Running LIFO Scheduling\n",
            "Executing: Medium Priority Task (Priority: 2)\n",
            "Executing: High Priority Task (Priority: 3)\n",
            "Executing: Low Priority Task (Priority: 1)\n",
            "Executing: Low Priority Task (Priority: 1)\n",
            "Executing: High Priority Task (Priority: 3)\n",
            "Executing: Medium Priority Task (Priority: 2)\n",
            "Total time taken: 1.00 seconds\n",
            "Running Round-Robin Scheduling\n",
            "Executing: Low Priority Task (Priority: 1)\n",
            "Executing: High Priority Task (Priority: 3)\n",
            "Executing: Medium Priority Task (Priority: 2)\n",
            "Executing: Low Priority Task (Priority: 1)\n",
            "Executing: High Priority Task (Priority: 3)\n",
            "Executing: Medium Priority Task (Priority: 2)\n",
            "Executing: Low Priority Task (Priority: 1)\n",
            "Executing: High Priority Task (Priority: 3)\n",
            "Executing: Medium Priority Task (Priority: 2)\n",
            "Executing: Low Priority Task (Priority: 1)\n",
            "Executing: High Priority Task (Priority: 3)\n",
            "Executing: Medium Priority Task (Priority: 2)\n",
            "Total time taken: 2.00 seconds\n"
          ]
        }
      ],
      "source": [
        "import concurrent.futures\n",
        "import heapq\n",
        "import collections\n",
        "import time\n",
        "\n",
        "\n",
        "tasks = [\n",
        "    (1, \"Low Priority Task\"),\n",
        "    (3, \"High Priority Task\"),\n",
        "    (2, \"Medium Priority Task\")\n",
        "]\n",
        "\n",
        "def executeTask(task):\n",
        "    priority, description = task\n",
        "    print(f\"Executing: {description} (Priority: {priority})\")\n",
        "    time.sleep(1)\n",
        "\n",
        "def run_with_scheduling(schedulingType, runTasks):\n",
        "    print(f\"Running {schedulingType} Scheduling\")\n",
        "    startTime = time.time()\n",
        "\n",
        "    with concurrent.futures.ThreadPoolExecutor(max_workers=3) as executor:\n",
        "      if schedulingType == \"Priority\":\n",
        "         runTasks = sorted(tasks, reverse=True) # Simulate priority queue\n",
        "         executor.map(executeTask, runTasks)\n",
        "      elif schedulingType == \"LIFO\":\n",
        "        executor.map(executeTask, runTasks[::-1]) # Simulate Last in First Out\n",
        "      elif schedulingType == \"Round-Robin\":   #Simulate Round_Robin\n",
        "        tasksQueue = collections.deque(runTasks)\n",
        "        roundTask = [executor.submit(executeTask, task) for task in runTasks]\n",
        "        for roundTask in concurrent.futures.as_completed(roundTask):\n",
        "          task = tasksQueue.popleft()\n",
        "          executor.submit(executeTask, task)\n",
        "          tasksQueue.append(task)\n",
        "\n",
        "    endTime = time.time()\n",
        "    print(f\"Total time taken: {endTime - startTime:.2f} seconds\")\n",
        "\n",
        "\n",
        "\n",
        "if __name__ == '__main__':\n",
        "  run_with_scheduling(\"Priority\", tasks)\n",
        "  run_with_scheduling(\"LIFO\", tasks)\n",
        "  run_with_scheduling(\"Round-Robin\", tasks)\n",
        "\n",
        "\n",
        "\n"
      ]
    }
  ],
  "metadata": {
    "language_info": {
      "name": "python"
    },
    "colab": {
      "provenance": []
    },
    "kernelspec": {
      "name": "python3",
      "display_name": "Python 3"
    }
  },
  "nbformat": 4,
  "nbformat_minor": 0
}