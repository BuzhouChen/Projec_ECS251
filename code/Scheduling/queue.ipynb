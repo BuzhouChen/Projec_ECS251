{
  "cells": [
    {
      "cell_type": "code",
      "execution_count": 1,
      "metadata": {
        "vscode": {
          "languageId": "plaintext"
        },
        "colab": {
          "base_uri": "https://localhost:8080/",
          "height": 106
        },
        "id": "1FZm-PKIuENC",
        "outputId": "fd56827d-90a2-4f9c-fd5d-11d38b0de5e2"
      },
      "outputs": [
        {
          "output_type": "error",
          "ename": "SyntaxError",
          "evalue": "expected ':' (<ipython-input-1-926518b90702>, line 25)",
          "traceback": [
            "\u001b[0;36m  File \u001b[0;32m\"<ipython-input-1-926518b90702>\"\u001b[0;36m, line \u001b[0;32m25\u001b[0m\n\u001b[0;31m    else if scheduling_type == \"LIFO\":\u001b[0m\n\u001b[0m         ^\u001b[0m\n\u001b[0;31mSyntaxError\u001b[0m\u001b[0;31m:\u001b[0m expected ':'\n"
          ]
        }
      ],
      "source": [
        "import concurrent.futures\n",
        "import heapq\n",
        "import collections\n",
        "import time\n",
        "\n",
        "\n",
        "tasks = [\n",
        "    (1, \"Low Priority Task\"),\n",
        "    (3, \"High Priority Task\"),\n",
        "    (2, \"Medium Priority Task\")\n",
        "]\n",
        "\n",
        "def executeTask(task):\n",
        "    priority, description = task\n",
        "    print(f\"Executing: {description} (Priority: {priority})\")\n",
        "    time.sleep(1)\n",
        "\n",
        "def run_with_scheduling(schedulingType, runTasks):\n",
        "    print(f\"Running {schedulingType} Scheduling\")\n",
        "    startTime = time.time()\n",
        "\n",
        "    with concurrent.futures.ThreadPoolExecutor(max_workers=3) as executor:\n",
        "      if schedulingType == \"Priority\":\n",
        "         runTasks = sorted(tasks, reverse=True) # Simulate priority queue\n",
        "         executor.map(executeTask, runTasks)\n",
        "      elif schedulingType == \"LIFO\":\n",
        "        executor.map(executeTask, runTasks[::-1]) # Simulate Last in First Out\n",
        "      elif schedulingType == \"Round-Robin\":   #Simulate Round_Robin\n",
        "        tasks_queue = collections.deque(runTasks)\n",
        "            while tasksQueue:\n",
        "                task = tasksQueue.popleft()\n",
        "                executor.submit(executeTask, task)\n",
        "                tasks_queue.append(task)\n",
        "    endTime = time.time()\n",
        "    print(f\"Total time taken: {endTime - startTime:.2f} seconds\")\n",
        "\n",
        "\n",
        "\n",
        "if __name__ == '__main__':\n",
        "  run_with_scheduling(\"Priority\", tasks)\n",
        "  run_with_scheduling(\"LIFO\", tasks)\n",
        "  run_with_scheduling(\"Round-Robin\", tasks)\n",
        "\n",
        "\n",
        "\n"
      ]
    }
  ],
  "metadata": {
    "language_info": {
      "name": "python"
    },
    "colab": {
      "provenance": []
    },
    "kernelspec": {
      "name": "python3",
      "display_name": "Python 3"
    }
  },
  "nbformat": 4,
  "nbformat_minor": 0
}