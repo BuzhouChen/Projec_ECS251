{
 "cells": [
  {
   "cell_type": "code",
   "execution_count": null,
   "metadata": {
    "vscode": {
     "languageId": "plaintext"
    }
   },
   "outputs": [],
   "source": [
    "import concurrent.futures\n",
    "import gzip\n",
    "import shutil\n",
    "\n",
    "def compress_file(filename):\n",
    "    with open(filename, 'rb') as f_in:\n",
    "        with gzip.open(filename + '.gz', 'wb') as f_out:\n",
    "            shutil.copyfileobj(f_in, f_out)\n",
    "\n",
    "files = [\"large_file1.txt\", \"large_file2.txt\", \"large_file3.txt\"]\n",
    "\n",
    "with concurrent.futures.ThreadPoolExecutor(max_workers=5) as executor:\n",
    "    executor.map(compress_file, files)"
   ]
  }
 ],
 "metadata": {
  "language_info": {
   "name": "python"
  }
 },
 "nbformat": 4,
 "nbformat_minor": 2
}
