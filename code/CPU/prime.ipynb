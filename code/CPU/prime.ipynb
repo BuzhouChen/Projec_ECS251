{
 "cells": [
  {
   "cell_type": "code",
   "execution_count": null,
   "metadata": {},
   "outputs": [],
   "source": [
    "import random\n",
    "import time\n",
    "from concurrent.futures import ThreadPoolExecutor\n",
    "from multiprocessing import Pool"
   ]
  },
  {
   "cell_type": "code",
   "execution_count": null,
   "metadata": {},
   "outputs": [],
   "source": [
    "def generate_numbers(num_tasks, min_value=10**12, max_value=10**15):\n",
    "    return [random.randint(min_value, max_value) for _ in range(num_tasks)]"
   ]
  },
  {
   "cell_type": "code",
   "execution_count": null,
   "metadata": {},
   "outputs": [],
   "source": [
    "def is_prime(n):\n",
    "    if n < 2:\n",
    "        return False\n",
    "    if n in (2, 3):\n",
    "        return True\n",
    "    if n % 2 == 0 or n % 3 == 0:\n",
    "        return False\n",
    "    i = 5\n",
    "    while i * i <= n: \n",
    "        if n % i == 0 or n % (i + 2) == 0:\n",
    "            return False\n",
    "        i += 6\n",
    "    return True"
   ]
  },
  {
   "cell_type": "code",
   "execution_count": null,
   "metadata": {},
   "outputs": [],
   "source": [
    "def thread_pool(task, inputs):\n",
    "    start_time = time.time()\n",
    "    with ThreadPoolExecutor(max_workers=4) as executor: \n",
    "        results = list(executor.map(task, inputs))\n",
    "    end_time = time.time()\n",
    "    print(f\"Thread Pool time: {end_time - start_time:.2f} s\")"
   ]
  },
  {
   "cell_type": "code",
   "execution_count": null,
   "metadata": {},
   "outputs": [],
   "source": [
    "def process_pool(task, inputs):\n",
    "    start_time = time.time()\n",
    "    with Pool(processes=4) as pool:  \n",
    "        results = pool.map(task, inputs)\n",
    "    end_time = time.time()\n",
    "    print(f\"Process Pool time: {end_time - start_time:.2f} s\")"
   ]
  },
  {
   "cell_type": "code",
   "execution_count": null,
   "metadata": {},
   "outputs": [],
   "source": [
    "def main():\n",
    "    num_tasks = 100 \n",
    "    numbers = generate_numbers(num_tasks)\n",
    "\n",
    "    print(f\"Thread Pool:\")\n",
    "    thread_pool(is_prime, numbers)\n",
    "\n",
    "    print(f\"\\n Process Pool:\")\n",
    "    process_pool(is_prime, numbers)\n",
    "\n",
    "if __name__ == \"__main__\":\n",
    "    main()"
   ]
  }
 ],
 "metadata": {
  "kernelspec": {
   "display_name": "base",
   "language": "python",
   "name": "python3"
  },
  "language_info": {
   "name": "python",
   "version": "3.8.5"
  }
 },
 "nbformat": 4,
 "nbformat_minor": 2
}
