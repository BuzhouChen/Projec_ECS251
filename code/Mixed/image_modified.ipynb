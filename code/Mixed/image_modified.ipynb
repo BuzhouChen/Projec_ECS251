{
 "cells": [
  {
   "cell_type": "code",
   "execution_count": 1,
   "id": "813fb674",
   "metadata": {},
   "outputs": [],
   "source": [
    "import concurrent.futures\n",
    "from PIL import Image\n",
    "import time"
   ]
  },
  {
   "cell_type": "code",
   "execution_count": 2,
   "id": "cdb93ed0",
   "metadata": {},
   "outputs": [],
   "source": [
    "def process_image(filename):\n",
    "    img = Image.open(filename)\n",
    "    img = img.resize((100, 100))\n",
    "    img.save(\"resized_\" + filename)\n",
    "\n",
    "image_files = [\"high_res.jpg\", \"low_res.jpg\"]"
   ]
  },
  {
   "cell_type": "code",
   "execution_count": 3,
   "id": "75b8c94b",
   "metadata": {},
   "outputs": [],
   "source": [
    "# measure time for ThreadPoolExecutor\n",
    "start_time = time.time()\n",
    "with concurrent.futures.ThreadPoolExecutor(max_workers=5) as executor:\n",
    "    executor.map(process_image, image_files)\n",
    "thread_time = time.time() - start_time\n",
    "\n",
    "# measure time for ProcessPoolExecutor\n",
    "start_time = time.time()\n",
    "with concurrent.futures.ProcessPoolExecutor(max_workers=5) as executor:\n",
    "    executor.map(process_image, image_files)\n",
    "process_time = time.time() - start_time"
   ]
  },
  {
   "cell_type": "code",
   "execution_count": 4,
   "id": "9ed01dc4",
   "metadata": {},
   "outputs": [
    {
     "name": "stdout",
     "output_type": "stream",
     "text": [
      "ThreadPoolExecutor Time: 0.1172 seconds\n",
      "ProcessPoolExecutor Time: 0.1621 seconds\n"
     ]
    }
   ],
   "source": [
    "print(f\"ThreadPoolExecutor Time: {thread_time:.4f} seconds\")\n",
    "print(f\"ProcessPoolExecutor Time: {process_time:.4f} seconds\")"
   ]
  }
 ],
 "metadata": {
  "kernelspec": {
   "display_name": "Python 3 (ipykernel)",
   "language": "python",
   "name": "python3"
  },
  "language_info": {
   "codemirror_mode": {
    "name": "ipython",
    "version": 3
   },
   "file_extension": ".py",
   "mimetype": "text/x-python",
   "name": "python",
   "nbconvert_exporter": "python",
   "pygments_lexer": "ipython3",
   "version": "3.10.9"
  }
 },
 "nbformat": 4,
 "nbformat_minor": 5
}
