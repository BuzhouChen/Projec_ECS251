{
 "cells": [
  {
   "cell_type": "code",
   "execution_count": 1,
   "id": "724d04e4",
   "metadata": {},
   "outputs": [],
   "source": [
    "import concurrent.futures\n",
    "import torch\n",
    "import numpy as np\n",
    "import torchvision.transforms as transforms\n",
    "from PIL import Image\n",
    "from torchvision import models\n",
    "import time\n",
    "from image_gen import pick_random_image_path, generate_white_noise_image"
   ]
  },
  {
   "cell_type": "code",
   "execution_count": 2,
   "id": "4aee6485",
   "metadata": {},
   "outputs": [
    {
     "name": "stderr",
     "output_type": "stream",
     "text": [
      "C:\\Users\\muSyR\\AppData\\Roaming\\Python\\Python310\\site-packages\\torchvision\\models\\_utils.py:208: UserWarning: The parameter 'pretrained' is deprecated since 0.13 and may be removed in the future, please use 'weights' instead.\n",
      "  warnings.warn(\n",
      "C:\\Users\\muSyR\\AppData\\Roaming\\Python\\Python310\\site-packages\\torchvision\\models\\_utils.py:223: UserWarning: Arguments other than a weight enum or `None` for 'weights' are deprecated since 0.13 and may be removed in the future. The current behavior is equivalent to passing `weights=ResNet18_Weights.IMAGENET1K_V1`. You can also use `weights=ResNet18_Weights.DEFAULT` to get the most up-to-date weights.\n",
      "  warnings.warn(msg)\n"
     ]
    }
   ],
   "source": [
    "# load a pre-trained ResNet model\n",
    "model = models.resnet18(pretrained=True)\n",
    "model.eval()\n",
    "\n",
    "transform = transforms.Compose([\n",
    "    transforms.Resize((224, 224)),\n",
    "    transforms.ToTensor()\n",
    "])"
   ]
  },
  {
   "cell_type": "code",
   "execution_count": 3,
   "id": "0d0eb017",
   "metadata": {},
   "outputs": [
    {
     "name": "stdout",
     "output_type": "stream",
     "text": [
      "Choosing high res image 3.\n",
      "Choosing low res image 2.\n",
      "Successfully generated white noise image.\n"
     ]
    }
   ],
   "source": [
    "high_res_image_path = pick_random_image_path(\"high-res-images\")\n",
    "print(f\"Choosing high res image {high_res_image_path[-5]}.\")\n",
    "\n",
    "low_res_image_path = pick_random_image_path(\"low-res-images\")\n",
    "print(f\"Choosing low res image {low_res_image_path[-5]}.\")\n",
    "\n",
    "white_noise_image_path = generate_white_noise_image()\n",
    "if white_noise_image_path:\n",
    "    print(\"Successfully generated white noise image.\")"
   ]
  },
  {
   "cell_type": "code",
   "execution_count": 4,
   "id": "fe7961fc",
   "metadata": {},
   "outputs": [],
   "source": [
    "image_paths = [high_res_image_path, low_res_image_path, white_noise_image_path]"
   ]
  },
  {
   "cell_type": "code",
   "execution_count": 5,
   "id": "1bba8f3d",
   "metadata": {},
   "outputs": [],
   "source": [
    "def classify_image(image_path):\n",
    "    image = Image.open(image_path)\n",
    "    image = transform(image).unsqueeze(0)\n",
    "    with torch.no_grad():\n",
    "        output = model(image)\n",
    "    return output.argmax().item()"
   ]
  },
  {
   "cell_type": "code",
   "execution_count": 6,
   "id": "e3427c2e",
   "metadata": {},
   "outputs": [],
   "source": [
    "# Function to process images using ThreadPoolExecutor\n",
    "def process_with_threadpool():\n",
    "    start_time = time.time()\n",
    "    with concurrent.futures.ThreadPoolExecutor(max_workers=4) as executor:\n",
    "        results = list(executor.map(classify_image, image_paths))\n",
    "    end_time = time.time()\n",
    "    total_time = end_time - start_time\n",
    "    print(f\"ThreadPoolExecutor results: {results}\")\n",
    "    # print(f\"ThreadPoolExecutor total time: {total_time:.4f} seconds\")\n",
    "    return total_time\n",
    "\n",
    "# Function to process images using ProcessPoolExecutor\n",
    "def process_with_processpool():\n",
    "    start_time = time.time()\n",
    "    try: \n",
    "        with concurrent.futures.ProcessPoolExecutor() as executor:\n",
    "            results = list(executor.map(classify_image, image_paths))\n",
    "    except Exception as e:\n",
    "        print(f\"Error with Process Pool Execution: {e}\")\n",
    "        results = False\n",
    "    end_time = time.time()\n",
    "    total_time = end_time - start_time\n",
    "    print(f\"ProcessPoolExecutor results: {results}\")\n",
    "    # print(f\"ProcessPoolExecutor total time: {total_time:.4f} seconds\")\n",
    "    return total_time"
   ]
  },
  {
   "cell_type": "code",
   "execution_count": 7,
   "id": "c5830998",
   "metadata": {},
   "outputs": [
    {
     "name": "stdout",
     "output_type": "stream",
     "text": [
      "ThreadPoolExecutor results: [669, 646, 418]\n",
      "Error with Process Pool Execution: A process in the process pool was terminated abruptly while the future was running or pending.\n",
      "ProcessPoolExecutor results: False\n",
      "\n",
      "Overall time comparison:\n",
      "ThreadPoolExecutor Time: 0.3089 seconds\n",
      "ProcessPoolExecutor Time: 0.2473 seconds\n"
     ]
    }
   ],
   "source": [
    "threadpool_time = process_with_threadpool()\n",
    "processpool_time = process_with_processpool()\n",
    "\n",
    "print(f\"\\nOverall time comparison:\")\n",
    "print(f\"ThreadPoolExecutor Time: {threadpool_time:.4f} seconds\")\n",
    "print(f\"ProcessPoolExecutor Time: {processpool_time:.4f} seconds\")"
   ]
  }
 ],
 "metadata": {
  "kernelspec": {
   "display_name": "Python 3 (ipykernel)",
   "language": "python",
   "name": "python3"
  },
  "language_info": {
   "codemirror_mode": {
    "name": "ipython",
    "version": 3
   },
   "file_extension": ".py",
   "mimetype": "text/x-python",
   "name": "python",
   "nbconvert_exporter": "python",
   "pygments_lexer": "ipython3",
   "version": "3.10.9"
  }
 },
 "nbformat": 4,
 "nbformat_minor": 5
}
