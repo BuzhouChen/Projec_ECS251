{
 "cells": [
  {
   "cell_type": "code",
   "execution_count": 1,
   "id": "03b2fdb0",
   "metadata": {},
   "outputs": [],
   "source": [
    "import concurrent.futures\n",
    "from PIL import Image\n",
    "import time\n",
    "import numpy as np\n",
    "from image_gen import pick_random_image_path, generate_white_noise_image"
   ]
  },
  {
   "cell_type": "code",
   "execution_count": 2,
   "id": "c20f938d",
   "metadata": {},
   "outputs": [],
   "source": [
    "def process_image(image_path):\n",
    "    image = Image.open(image_path)\n",
    "    image = image.resize((100, 100))\n",
    "    # image.save(\"resized_\" + image_path)"
   ]
  },
  {
   "cell_type": "code",
   "execution_count": 3,
   "id": "81ceb292",
   "metadata": {},
   "outputs": [
    {
     "name": "stdout",
     "output_type": "stream",
     "text": [
      "Choosing high res image 1.\n",
      "Choosing low res image 1.\n",
      "Successfully generated white noise image.\n"
     ]
    }
   ],
   "source": [
    "high_res_image_path = pick_random_image_path(\"high-res-images\")\n",
    "print(f\"Choosing high res image {high_res_image_path[-5]}.\")\n",
    "\n",
    "low_res_image_path = pick_random_image_path(\"low-res-images\")\n",
    "print(f\"Choosing low res image {low_res_image_path[-5]}.\")\n",
    "\n",
    "white_noise_image_path = generate_white_noise_image()\n",
    "if white_noise_image_path:\n",
    "    print(\"Successfully generated white noise image.\")"
   ]
  },
  {
   "cell_type": "code",
   "execution_count": 4,
   "id": "48c7f684",
   "metadata": {},
   "outputs": [],
   "source": [
    "image_paths = [high_res_image_path, low_res_image_path, white_noise_image_path]"
   ]
  },
  {
   "cell_type": "code",
   "execution_count": 5,
   "id": "2093fdc2",
   "metadata": {},
   "outputs": [],
   "source": [
    "# measure time for ThreadPoolExecutor\n",
    "start_time = time.time()\n",
    "with concurrent.futures.ThreadPoolExecutor(max_workers=5) as executor:\n",
    "    executor.map(process_image, image_paths)\n",
    "thread_time = time.time() - start_time\n",
    "\n",
    "# measure time for ProcessPoolExecutor\n",
    "start_time = time.time()\n",
    "with concurrent.futures.ProcessPoolExecutor(max_workers=5) as executor:\n",
    "    executor.map(process_image, image_paths)\n",
    "process_time = time.time() - start_time"
   ]
  },
  {
   "cell_type": "code",
   "execution_count": 6,
   "id": "4e7f2088",
   "metadata": {},
   "outputs": [
    {
     "name": "stdout",
     "output_type": "stream",
     "text": [
      "ThreadPoolExecutor Time: 0.1256 seconds\n",
      "ProcessPoolExecutor Time: 0.1558 seconds\n"
     ]
    }
   ],
   "source": [
    "print(f\"\\nOverall time comparison:\")\n",
    "print(f\"ThreadPoolExecutor Time: {thread_time:.4f} seconds\")\n",
    "print(f\"ProcessPoolExecutor Time: {process_time:.4f} seconds\")"
   ]
  }
 ],
 "metadata": {
  "kernelspec": {
   "display_name": "Python 3 (ipykernel)",
   "language": "python",
   "name": "python3"
  },
  "language_info": {
   "codemirror_mode": {
    "name": "ipython",
    "version": 3
   },
   "file_extension": ".py",
   "mimetype": "text/x-python",
   "name": "python",
   "nbconvert_exporter": "python",
   "pygments_lexer": "ipython3",
   "version": "3.10.9"
  }
 },
 "nbformat": 4,
 "nbformat_minor": 5
}
