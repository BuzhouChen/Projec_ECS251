{
 "cells": [
  {
   "cell_type": "code",
   "execution_count": null,
   "metadata": {
    "vscode": {
     "languageId": "plaintext"
    }
   },
   "outputs": [],
   "source": [
    "import concurrent.futures\n",
    "from PIL import Image\n",
    "\n",
    "def process_image(filename):\n",
    "    img = Image.open(filename)\n",
    "    img = img.resize((100, 100))\n",
    "    img.save(\"resized_\" + filename)\n",
    "\n",
    "image_files = [\"image1.jpg\", \"image2.jpg\", \"image3.jpg\"]\n",
    "\n",
    "with concurrent.futures.ThreadPoolExecutor(max_workers=5) as executor:\n",
    "    executor.map(process_image, image_files)"
   ]
  }
 ],
 "metadata": {
  "language_info": {
   "name": "python"
  }
 },
 "nbformat": 4,
 "nbformat_minor": 2
}
