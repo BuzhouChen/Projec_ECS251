{
 "cells": [
  {
   "cell_type": "code",
   "execution_count": 1,
   "id": "2ecf1053",
   "metadata": {},
   "outputs": [],
   "source": [
    "import concurrent.futures\n",
    "import torch\n",
    "import numpy as np\n",
    "import torchvision.transforms as transforms\n",
    "from PIL import Image\n",
    "from torchvision import models\n",
    "import time"
   ]
  },
  {
   "cell_type": "code",
   "execution_count": 2,
   "id": "81c375e1",
   "metadata": {},
   "outputs": [],
   "source": [
    "# generating random 256x256 noise image with error handling\n",
    "try: \n",
    "    noise = np.random.randint(0, 256, (256, 256, 3), dtype = np.uint8)\n",
    "    image = Image.fromarray(noise)\n",
    "    image.save(\"random_noise.jpg\")\n",
    "except Exception as e:\n",
    "    print(f\"Error in generating image: {e}\")"
   ]
  },
  {
   "cell_type": "code",
   "execution_count": 3,
   "id": "10a31cec",
   "metadata": {},
   "outputs": [
    {
     "name": "stderr",
     "output_type": "stream",
     "text": [
      "C:\\Users\\muSyR\\AppData\\Roaming\\Python\\Python310\\site-packages\\torchvision\\models\\_utils.py:208: UserWarning: The parameter 'pretrained' is deprecated since 0.13 and may be removed in the future, please use 'weights' instead.\n",
      "  warnings.warn(\n",
      "C:\\Users\\muSyR\\AppData\\Roaming\\Python\\Python310\\site-packages\\torchvision\\models\\_utils.py:223: UserWarning: Arguments other than a weight enum or `None` for 'weights' are deprecated since 0.13 and may be removed in the future. The current behavior is equivalent to passing `weights=ResNet18_Weights.IMAGENET1K_V1`. You can also use `weights=ResNet18_Weights.DEFAULT` to get the most up-to-date weights.\n",
      "  warnings.warn(msg)\n"
     ]
    }
   ],
   "source": [
    "# load a pre-trained ResNet model\n",
    "model = models.resnet18(pretrained=True)\n",
    "model.eval()\n",
    "\n",
    "transform = transforms.Compose([\n",
    "    transforms.Resize((224, 224)),\n",
    "    transforms.ToTensor()\n",
    "])"
   ]
  },
  {
   "cell_type": "code",
   "execution_count": 4,
   "id": "3e33f237",
   "metadata": {},
   "outputs": [],
   "source": [
    "def classify_image(image_path):\n",
    "    img = Image.open(image_path)\n",
    "    img = transform(img).unsqueeze(0)\n",
    "    with torch.no_grad():\n",
    "        output = model(img)\n",
    "    return output.argmax().item()\n",
    "\n",
    "image_paths = [\"high_res.jpg\", \"low_res.jpg\", \"random_noise.jpg\"]"
   ]
  },
  {
   "cell_type": "code",
   "execution_count": 9,
   "id": "ef6dd165",
   "metadata": {},
   "outputs": [],
   "source": [
    "# Function to process images using ThreadPoolExecutor\n",
    "def process_with_threadpool():\n",
    "    start_time = time.time()\n",
    "    with concurrent.futures.ThreadPoolExecutor(max_workers=4) as executor:\n",
    "        results = list(executor.map(classify_image, image_paths))\n",
    "    end_time = time.time()\n",
    "    total_time = end_time - start_time\n",
    "    print(f\"ThreadPoolExecutor results: {results}\")\n",
    "    print(f\"ThreadPoolExecutor total time: {total_time:.4f} seconds\")\n",
    "    return total_time\n",
    "\n",
    "# Function to process images using ProcessPoolExecutor\n",
    "def process_with_processpool():\n",
    "    start_time = time.time()\n",
    "    try: \n",
    "        with concurrent.futures.ProcessPoolExecutor() as executor:\n",
    "            results = list(executor.map(classify_image, image_paths))\n",
    "    except Exception as e:\n",
    "        print(f\"Error with Process Pool Execution: {e}\")\n",
    "        results = False\n",
    "    end_time = time.time()\n",
    "    total_time = end_time - start_time\n",
    "    print(f\"ProcessPoolExecutor results: {results}\")\n",
    "    print(f\"ProcessPoolExecutor total time: {total_time:.4f} seconds\")\n",
    "    return total_time"
   ]
  },
  {
   "cell_type": "code",
   "execution_count": 10,
   "id": "b898bca7",
   "metadata": {},
   "outputs": [
    {
     "name": "stdout",
     "output_type": "stream",
     "text": [
      "ThreadPoolExecutor results: [970, 794, 418]\n",
      "ThreadPoolExecutor total time: 0.1610 seconds\n",
      "Error with Process Pool Execution: A process in the process pool was terminated abruptly while the future was running or pending.\n",
      "ProcessPoolExecutor results: False\n",
      "ProcessPoolExecutor total time: 0.1721 seconds\n",
      "\n",
      "Overall time comparison:\n",
      "ThreadPoolExecutor total time: 0.1610 seconds\n",
      "ProcessPoolExecutor total time: 0.1721 seconds\n"
     ]
    }
   ],
   "source": [
    "threadpool_time = process_with_threadpool()\n",
    "multiprocessing.set_start_method('spawn', force=True)\n",
    "processpool_time = process_with_processpool()\n",
    "\n",
    "print(f\"\\nOverall time comparison:\")\n",
    "print(f\"ThreadPoolExecutor total time: {threadpool_time:.4f} seconds\")\n",
    "print(f\"ProcessPoolExecutor total time: {processpool_time:.4f} seconds\")"
   ]
  }
 ],
 "metadata": {
  "kernelspec": {
   "display_name": "Python 3 (ipykernel)",
   "language": "python",
   "name": "python3"
  },
  "language_info": {
   "codemirror_mode": {
    "name": "ipython",
    "version": 3
   },
   "file_extension": ".py",
   "mimetype": "text/x-python",
   "name": "python",
   "nbconvert_exporter": "python",
   "pygments_lexer": "ipython3",
   "version": "3.10.9"
  }
 },
 "nbformat": 4,
 "nbformat_minor": 5
}
