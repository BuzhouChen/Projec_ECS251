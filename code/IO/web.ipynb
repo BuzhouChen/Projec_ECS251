{
 "cells": [
  {
   "cell_type": "code",
   "execution_count": null,
   "metadata": {},
   "outputs": [],
   "source": [
    "import concurrent.futures\n",
    "import requests\n",
    "import time\n",
    "\n",
    "URLS = [\n",
    "    \"https://www.example.com\",\n",
    "    \"https://www.python.org\",\n",
    "    \"https://www.github.com\",\n",
    "    \"https://www.baidu.com\"\n",
    "] * 50  # 请求次数增加到200次\n",
    "\n",
    "def fetch_url(url):\n",
    "    try:\n",
    "        # 使用 requests 进行网络请求，并设置超时参数\n",
    "        response = requests.get(url, timeout=10)  # 设置请求的超时为 10 秒\n",
    "        response.raise_for_status()  # 如果响应状态码不是 2xx，会抛出异常\n",
    "        return f\"{url}: {response.status_code}\"\n",
    "    except requests.Timeout:\n",
    "        return f\"{url}: Timeout error\"\n",
    "    except requests.ConnectionError:\n",
    "        return f\"{url}: Connection error\"\n",
    "    except requests.RequestException as e:\n",
    "        return f\"{url}: Error - {str(e)}\"\n"
   ]
  },
  {
   "cell_type": "code",
   "execution_count": 1,
   "metadata": {},
   "outputs": [
    {
     "name": "stdout",
     "output_type": "stream",
     "text": [
      "Using ThreadPoolExecutor...\n"
     ]
    },
    {
     "ename": "NameError",
     "evalue": "name 'time' is not defined",
     "output_type": "error",
     "traceback": [
      "\u001b[1;31m---------------------------------------------------------------------------\u001b[0m",
      "\u001b[1;31mNameError\u001b[0m                                 Traceback (most recent call last)",
      "Cell \u001b[1;32mIn [1], line 4\u001b[0m\n\u001b[0;32m      1\u001b[0m \u001b[38;5;28;01mif\u001b[39;00m \u001b[38;5;18m__name__\u001b[39m \u001b[38;5;241m==\u001b[39m \u001b[38;5;124m\"\u001b[39m\u001b[38;5;124m__main__\u001b[39m\u001b[38;5;124m\"\u001b[39m:\n\u001b[0;32m      2\u001b[0m     \u001b[38;5;66;03m# 使用 ThreadPoolExecutor\u001b[39;00m\n\u001b[0;32m      3\u001b[0m     \u001b[38;5;28mprint\u001b[39m(\u001b[38;5;124m\"\u001b[39m\u001b[38;5;124mUsing ThreadPoolExecutor...\u001b[39m\u001b[38;5;124m\"\u001b[39m)\n\u001b[1;32m----> 4\u001b[0m     start \u001b[38;5;241m=\u001b[39m time\u001b[38;5;241m.\u001b[39mtime()\n\u001b[0;32m      5\u001b[0m     \u001b[38;5;28;01mtry\u001b[39;00m:\n\u001b[0;32m      6\u001b[0m         \u001b[38;5;28;01mwith\u001b[39;00m concurrent\u001b[38;5;241m.\u001b[39mfutures\u001b[38;5;241m.\u001b[39mThreadPoolExecutor(max_workers\u001b[38;5;241m=\u001b[39m\u001b[38;5;241m10\u001b[39m) \u001b[38;5;28;01mas\u001b[39;00m executor:\n",
      "\u001b[1;31mNameError\u001b[0m: name 'time' is not defined"
     ]
    }
   ],
   "source": [
    "if __name__ == \"__main__\":\n",
    "    # 使用 ThreadPoolExecutor\n",
    "    print(\"Using ThreadPoolExecutor...\")\n",
    "    start = time.time()\n",
    "    try:\n",
    "        with concurrent.futures.ThreadPoolExecutor(max_workers=10) as executor:\n",
    "            results_threadpool = list(executor.map(fetch_url, URLS))\n",
    "    except Exception as e:\n",
    "        print(f\"Error in ThreadPoolExecutor: {e}\")\n",
    "    end = time.time()\n",
    "    print(f\"ThreadPool - Time taken: {end - start:.2f}s\")\n",
    "\n",
    "    # # 打印 ThreadPoolExecutor 的结果\n",
    "    # for result in results_threadpool:\n",
    "    #     print(result)\n",
    "\n",
    "    # 使用 ProcessPoolExecutor\n",
    "    print(\"\\nUsing ProcessPoolExecutor...\")\n",
    "    start = time.time()\n",
    "    try:\n",
    "        with concurrent.futures.ProcessPoolExecutor(max_workers=10) as executor:\n",
    "            results_processpool = list(executor.map(fetch_url, URLS))\n",
    "    except Exception as e:\n",
    "        print(f\"Error in ProcessPoolExecutor: {e}\")\n",
    "    end = time.time()\n",
    "    print(f\"ProcessPool - Time taken: {end - start:.2f}s\")\n",
    "\n",
    "    # # 打印 ProcessPoolExecutor 的结果\n",
    "    # for result in results_processpool:\n",
    "    #     print(result)"
   ]
  }
 ],
 "metadata": {
  "kernelspec": {
   "display_name": "crt",
   "language": "python",
   "name": "python3"
  },
  "language_info": {
   "codemirror_mode": {
    "name": "ipython",
    "version": 3
   },
   "file_extension": ".py",
   "mimetype": "text/x-python",
   "name": "python",
   "nbconvert_exporter": "python",
   "pygments_lexer": "ipython3",
   "version": "3.10.13"
  }
 },
 "nbformat": 4,
 "nbformat_minor": 2
}
