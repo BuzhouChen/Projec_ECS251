{
 "cells": [
  {
   "cell_type": "code",
   "execution_count": 1,
   "metadata": {},
   "outputs": [],
   "source": [
    "import concurrent.futures\n",
    "import requests\n",
    "import time\n",
    "\n",
    "URLS = [\n",
    "    \"https://www.example.com\",\n",
    "    \"https://www.python.org\",\n",
    "    \"https://www.github.com\",\n",
    "    \"https://www.baidu.com\"\n",
    "] * 50  # 请求次数增加到200次\n",
    "\n",
    "def fetch_url(url):\n",
    "    try:\n",
    "        # 使用 requests 进行网络请求，并设置超时参数\n",
    "        response = requests.get(url, timeout=10)  # 设置请求的超时为 10 秒\n",
    "        response.raise_for_status()  # 如果响应状态码不是 2xx，会抛出异常\n",
    "        return f\"{url}: {response.status_code}\"\n",
    "    except requests.Timeout:\n",
    "        return f\"{url}: Timeout error\"\n",
    "    except requests.ConnectionError:\n",
    "        return f\"{url}: Connection error\"\n",
    "    except requests.RequestException as e:\n",
    "        return f\"{url}: Error - {str(e)}\"\n"
   ]
  },
  {
   "cell_type": "code",
   "execution_count": 2,
   "metadata": {},
   "outputs": [
    {
     "name": "stdout",
     "output_type": "stream",
     "text": [
      "Using ThreadPoolExecutor...\n",
      "ThreadPool - Time taken: 8.37s\n",
      "\n",
      "Using ProcessPoolExecutor...\n",
      "Error in ProcessPoolExecutor: A process in the process pool was terminated abruptly while the future was running or pending.\n",
      "ProcessPool - Time taken: 0.21s\n"
     ]
    }
   ],
   "source": [
    "if __name__ == \"__main__\":\n",
    "    # 使用 ThreadPoolExecutor\n",
    "    print(\"Using ThreadPoolExecutor...\")\n",
    "    start = time.time()\n",
    "    try:\n",
    "        with concurrent.futures.ThreadPoolExecutor(max_workers=10) as executor:\n",
    "            results_threadpool = list(executor.map(fetch_url, URLS))\n",
    "    except Exception as e:\n",
    "        print(f\"Error in ThreadPoolExecutor: {e}\")\n",
    "    end = time.time()\n",
    "    print(f\"ThreadPool - Time taken: {end - start:.2f}s\")\n",
    "\n",
    "    # # 打印 ThreadPoolExecutor 的结果\n",
    "    # for result in results_threadpool:\n",
    "    #     print(result)\n",
    "\n",
    "    # 使用 ProcessPoolExecutor\n",
    "    print(\"\\nUsing ProcessPoolExecutor...\")\n",
    "    start = time.time()\n",
    "    try:\n",
    "        with concurrent.futures.ProcessPoolExecutor(max_workers=10) as executor:\n",
    "            results_processpool = list(executor.map(fetch_url, URLS))\n",
    "    except Exception as e:\n",
    "        print(f\"Error in ProcessPoolExecutor: {e}\")\n",
    "    end = time.time()\n",
    "    print(f\"ProcessPool - Time taken: {end - start:.2f}s\")\n",
    "\n",
    "    # # 打印 ProcessPoolExecutor 的结果\n",
    "    # for result in results_processpool:\n",
    "    #     print(result)"
   ]
  }
 ],
 "metadata": {
  "kernelspec": {
   "display_name": "newEnv",
   "language": "python",
   "name": "python3"
  },
  "language_info": {
   "codemirror_mode": {
    "name": "ipython",
    "version": 3
   },
   "file_extension": ".py",
   "mimetype": "text/x-python",
   "name": "python",
   "nbconvert_exporter": "python",
   "pygments_lexer": "ipython3",
   "version": "3.11.7"
  }
 },
 "nbformat": 4,
 "nbformat_minor": 2
}
