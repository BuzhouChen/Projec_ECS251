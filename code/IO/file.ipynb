{
 "cells": [
  {
   "cell_type": "code",
   "execution_count": null,
   "metadata": {
    "vscode": {
     "languageId": "plaintext"
    }
   },
   "outputs": [],
   "source": [
    "import concurrent.futures\n",
    "\n",
    "def read_file(filename):\n",
    "    with open(filename, 'r') as f:\n",
    "        return f.read()\n",
    "\n",
    "def write_file(data, filename):\n",
    "    with open(filename, 'w') as f:\n",
    "        f.write(data)\n",
    "\n",
    "files = [\"file1.txt\", \"file2.txt\", \"file3.txt\"]\n",
    "\n",
    "with concurrent.futures.ThreadPoolExecutor(max_workers=5) as executor:\n",
    "    contents = list(executor.map(read_file, files))\n",
    "\n",
    "with concurrent.futures.ThreadPoolExecutor(max_workers=5) as executor:\n",
    "    executor.map(write_file, contents, [\"output1.txt\", \"output2.txt\", \"output3.txt\"])"
   ]
  }
 ],
 "metadata": {
  "language_info": {
   "name": "python"
  }
 },
 "nbformat": 4,
 "nbformat_minor": 2
}
