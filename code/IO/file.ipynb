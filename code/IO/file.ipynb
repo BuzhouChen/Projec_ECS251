{
 "cells": [
  {
   "cell_type": "code",
   "execution_count": 1,
   "metadata": {},
   "outputs": [],
   "source": [
    "import os\n",
    "import concurrent.futures\n",
    "import time\n",
    "\n",
    "def generate_large_file(filename, size_in_mb=50):\n",
    "    \"\"\"generate files\"\"\"\n",
    "    with open(filename, 'wb') as f:\n",
    "        f.write(os.urandom(size_in_mb * 1024 * 1024))\n",
    "\n",
    "def read_file(filename):\n",
    "    with open(filename, 'rb') as f:\n",
    "        return f.read()\n",
    "\n",
    "def write_file(data, filename):\n",
    "    with open(filename, 'wb') as f:\n",
    "        f.write(data)\n"
   ]
  },
  {
   "cell_type": "code",
   "execution_count": 2,
   "metadata": {},
   "outputs": [
    {
     "name": "stdout",
     "output_type": "stream",
     "text": [
      "File generation time: 1.51 seconds\n",
      "File reading time (ThreadPool): 0.37 seconds\n",
      "Error in ProcessPoolExecutor (reading files): A process in the process pool was terminated abruptly while the future was running or pending.\n",
      "File reading time (ProcessPool): 0.19 seconds\n",
      "File writing time (ThreadPool): 0.41 seconds\n",
      "Error in ProcessPoolExecutor (writing files): name 'contents_processpool' is not defined\n",
      "File writing time (ProcessPool): 0.00 seconds\n"
     ]
    }
   ],
   "source": [
    "if __name__ == \"__main__\":\n",
    "    \n",
    "    file_list = [f\"./data/big_file_{i}.txt\" for i in range(10)]\n",
    "    out_file_list = [f\"./data/output_{i}.txt\" for i in range(len(file_list))]\n",
    "    \n",
    "    # record the time of start\n",
    "    start_time = time.time()\n",
    "    for fname in file_list:\n",
    "        generate_large_file(fname, size_in_mb=100)  # generate a 100 MB file\n",
    "    end_time = time.time()\n",
    "    print(f\"File generation time: {end_time - start_time:.2f} seconds\")\n",
    "    \n",
    "    \n",
    "    # Read files using ThreadPoolExecutor\n",
    "    start_time = time.time()\n",
    "    try:\n",
    "        with concurrent.futures.ThreadPoolExecutor(max_workers=5) as executor:\n",
    "            contents_threadpool = list(executor.map(read_file, file_list))\n",
    "    except Exception as e:\n",
    "        print(f\"Error in ThreadPoolExecutor (reading files): {e}\")\n",
    "    end_time = time.time()\n",
    "    print(f\"File reading time (ThreadPool): {end_time - start_time:.2f} seconds\")\n",
    "    \n",
    "    # Read files using ProcessPoolExecutor\n",
    "    start_time = time.time()\n",
    "    try:\n",
    "        with concurrent.futures.ProcessPoolExecutor(max_workers=5) as executor:\n",
    "            contents_processpool = list(executor.map(read_file, file_list))\n",
    "    except Exception as e:\n",
    "        print(f\"Error in ProcessPoolExecutor (reading files): {e}\")\n",
    "    end_time = time.time()\n",
    "    print(f\"File reading time (ProcessPool): {end_time - start_time:.2f} seconds\")\n",
    "    \n",
    "    # Write files using ThreadPoolExecutor\n",
    "    start_time = time.time()\n",
    "    try:\n",
    "        with concurrent.futures.ThreadPoolExecutor(max_workers=5) as executor:\n",
    "            executor.map(write_file, contents_threadpool, out_file_list)\n",
    "    except Exception as e:\n",
    "        print(f\"Error in ThreadPoolExecutor (writing files): {e}\")\n",
    "    end_time = time.time()\n",
    "    print(f\"File writing time (ThreadPool): {end_time - start_time:.2f} seconds\")\n",
    "    \n",
    "    # Write files using ProcessPoolExecutor\n",
    "    start_time = time.time()\n",
    "    try:\n",
    "        with concurrent.futures.ProcessPoolExecutor(max_workers=5) as executor:\n",
    "            executor.map(write_file, contents_processpool, out_file_list)\n",
    "    except Exception as e:\n",
    "        print(f\"Error in ProcessPoolExecutor (writing files): {e}\")\n",
    "    end_time = time.time()\n",
    "    print(f\"File writing time (ProcessPool): {end_time - start_time:.2f} seconds\")"
   ]
  }
 ],
 "metadata": {
  "kernelspec": {
   "display_name": "newEnv",
   "language": "python",
   "name": "python3"
  },
  "language_info": {
   "codemirror_mode": {
    "name": "ipython",
    "version": 3
   },
   "file_extension": ".py",
   "mimetype": "text/x-python",
   "name": "python",
   "nbconvert_exporter": "python",
   "pygments_lexer": "ipython3",
   "version": "3.11.7"
  }
 },
 "nbformat": 4,
 "nbformat_minor": 2
}
